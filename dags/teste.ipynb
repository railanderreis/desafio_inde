{
 "metadata": {
  "language_info": {
   "codemirror_mode": {
    "name": "ipython",
    "version": 3
   },
   "file_extension": ".py",
   "mimetype": "text/x-python",
   "name": "python",
   "nbconvert_exporter": "python",
   "pygments_lexer": "ipython3",
   "version": "3.8.3"
  },
  "orig_nbformat": 2,
  "kernelspec": {
   "name": "python383jvsc74a57bd0b3ba2566441a7c06988d0923437866b63cedc61552a5af99d1f4fb67d367b25f",
   "display_name": "Python 3.8.3 64-bit (conda)"
  }
 },
 "nbformat": 4,
 "nbformat_minor": 2,
 "cells": [
  {
   "cell_type": "code",
   "execution_count": null,
   "metadata": {},
   "outputs": [],
   "source": [
    "import twint\n",
    "import nest_asyncio\n",
    "nest_asyncio.apply()"
   ]
  },
  {
   "cell_type": "code",
   "execution_count": null,
   "metadata": {},
   "outputs": [],
   "source": [
    "usuario =['railanderReis','RapMais']\n",
    "data_init = '2010-01-01'"
   ]
  },
  {
   "cell_type": "code",
   "execution_count": null,
   "metadata": {
    "tags": [
     "outputPrepend"
    ]
   },
   "outputs": [],
   "source": [
    "for i in usuario:    \n",
    "    c = twint.Config()\n",
    "    c.Username = i\n",
    "    c.Since = data_init\n",
    "    c.Store_csv = True\n",
    "    c.Output = (i+\".csv\")\n",
    "    twint.run.Search(c)"
   ]
  },
  {
   "cell_type": "code",
   "execution_count": 1,
   "metadata": {},
   "outputs": [],
   "source": [
    "import tweepy\n",
    "import re\n",
    "import pandas as pd\n",
    "import numpy as np\n",
    "from datetime import datetime\n",
    "import json\n",
    "import glob2\n",
    "import pymongo"
   ]
  },
  {
   "cell_type": "code",
   "execution_count": 2,
   "metadata": {},
   "outputs": [],
   "source": [
    "consumer_key = 'yhJM02AXVkeJKbZ2UY9MZx2Pk'\n",
    "consumer_secret = 'bLNfYOuu0HJsca70Em3TQxoOAdudra0jsZI8kf1Rb7L74AxAjZ'\n",
    "access_token = '164492542-o5pBhnoeyeNr4lsW1soVsGAWA6h8qH7k9E2j4I9t'\n",
    "access_token_secret = 'S5nXv7sJZaC348zfHEzTcNK4Q1BAOUsOi6KLBH6YlTM0m'"
   ]
  },
  {
   "cell_type": "code",
   "execution_count": 3,
   "metadata": {},
   "outputs": [],
   "source": [
    "auth = tweepy.OAuthHandler(consumer_key, consumer_secret)\n",
    "auth.set_access_token(access_token, access_token_secret)\n",
    "api = tweepy.API(auth)"
   ]
  },
  {
   "cell_type": "code",
   "execution_count": 4,
   "metadata": {},
   "outputs": [],
   "source": [
    "usuario =['railanderReis','RapMais']\n"
   ]
  },
  {
   "cell_type": "code",
   "execution_count": null,
   "metadata": {},
   "outputs": [],
   "source": [
    "for i in usuario:\n",
    "    try:     \n",
    "        tweets = tweepy.Cursor(api.user_timeline,id=i).items(30)\n",
    "        \n",
    "        tweets_list = [[tweet.user.screen_name, tweet.text,tweet.created_at] for tweet in tweets]\n",
    "                \n",
    "        tweets_df = pd.DataFrame(tweets_list)\n",
    "        tweets_df = tweets_df.rename(columns={0: 'User', 1: 'Tweets', 2: 'Post_date'})\n",
    "\n",
    "        tweets_df['Tweets'] = tweets_df['Tweets'].replace(to_replace=r'#\\S+', value='', regex=True)\n",
    "        tweets_df['Tweets'] = tweets_df['Tweets'].replace(to_replace=r'@\\S+', value='', regex=True)\n",
    "        \n",
    "        tweets_df['Tweets'] = tweets_df['Tweets'].str.replace('[^\\w\\s#@/:%.,_-]', '', flags=re.UNICODE)\n",
    "\n",
    "        tweets_df['Tweets'] = tweets_df['Tweets'].replace(to_replace=r'\\$\\w*', value='', regex=True)\n",
    "        tweets_df['Tweets'] = tweets_df['Tweets'].replace(to_replace=r'https?:\\/\\/.*[\\r\\n]*', value='', regex=True)\n",
    "        tweets_df['Tweets'] = tweets_df['Tweets'].replace(to_replace=r'\\n', value='', regex=True)\n",
    "        tweets_df['Tweets'] = tweets_df['Tweets'].replace(to_replace=r'RT', value='', regex=True)\n",
    "        tweets_df['Tweets'] = tweets_df['Tweets'].replace(to_replace=r'\\\"\"', value='', regex=True)\n",
    "        tweets_df['Tweets'] = tweets_df['Tweets'].str.upper().str.lstrip()\n",
    "                \n",
    "\n",
    "        tweets_df['Post_date'] = pd.to_datetime(tweets_df['Post_date'], format='%d-%m-Y',infer_datetime_format=True)    \n",
    "\n",
    "        tweets_df.to_csv(i+\".csv\", index = False, header=True)\n",
    "\n",
    "    except BaseException as e:\n",
    "        print('failed on_status,',str(e))\n",
    "        time.sleep(3)"
   ]
  },
  {
   "cell_type": "code",
   "execution_count": 5,
   "metadata": {},
   "outputs": [],
   "source": [
    "for i in usuario:\n",
    "    try:     \n",
    "        tweets = tweepy.Cursor(api.user_timeline,id=i).items(30)\n",
    "        \n",
    "        tweets_list = [[tweet.user.screen_name, tweet.text,tweet.created_at] for tweet in tweets]\n",
    "                \n",
    "        tweets_df = pd.DataFrame(tweets_list)\n",
    "        tweets_df = tweets_df.rename(columns={0: 'User', 1: 'Tweets', 2: 'Post_date'})\n",
    "\n",
    "        tweets_df.to_csv(i+\".csv\", index = False, header=True)\n",
    "\n",
    "    except BaseException as e:\n",
    "        print('failed on_status,',str(e))\n",
    "        time.sleep(3)"
   ]
  },
  {
   "cell_type": "code",
   "execution_count": 6,
   "metadata": {},
   "outputs": [],
   "source": [
    "\n",
    "path =r'F:/cods-dockers/astro/dags'\n",
    "allFiles = glob2.glob(path + \"/*.csv\")\n",
    "\n"
   ]
  },
  {
   "cell_type": "code",
   "execution_count": 14,
   "metadata": {},
   "outputs": [],
   "source": [
    "\n",
    "#stockstats_data = pd.DataFrame()\n",
    "list_ = []\n",
    "\n",
    "for file_ in allFiles:\n",
    "    dfs = pd.read_csv(file_,index_col=None,header=0)\n",
    "    list_.append(dfs)\n",
    "    transform_data = pd.concat(list_,axis=0, ignore_index=True)\n",
    "    "
   ]
  },
  {
   "cell_type": "code",
   "execution_count": 8,
   "metadata": {},
   "outputs": [
    {
     "output_type": "execute_result",
     "data": {
      "text/plain": [
       "            User                                             Tweets  \\\n",
       "0  railanderReis              @Reisrz Ou nhm convite pra rock...😂😂😂   \n",
       "1  railanderReis  @Reisrz Conheco, mas tenho que confirmar se el...   \n",
       "\n",
       "             Post_date  \n",
       "0  2021-04-17 20:38:57  \n",
       "1  2021-03-04 21:59:27  "
      ],
      "text/html": "<div>\n<style scoped>\n    .dataframe tbody tr th:only-of-type {\n        vertical-align: middle;\n    }\n\n    .dataframe tbody tr th {\n        vertical-align: top;\n    }\n\n    .dataframe thead th {\n        text-align: right;\n    }\n</style>\n<table border=\"1\" class=\"dataframe\">\n  <thead>\n    <tr style=\"text-align: right;\">\n      <th></th>\n      <th>User</th>\n      <th>Tweets</th>\n      <th>Post_date</th>\n    </tr>\n  </thead>\n  <tbody>\n    <tr>\n      <th>0</th>\n      <td>railanderReis</td>\n      <td>@Reisrz Ou nhm convite pra rock...😂😂😂</td>\n      <td>2021-04-17 20:38:57</td>\n    </tr>\n    <tr>\n      <th>1</th>\n      <td>railanderReis</td>\n      <td>@Reisrz Conheco, mas tenho que confirmar se el...</td>\n      <td>2021-03-04 21:59:27</td>\n    </tr>\n  </tbody>\n</table>\n</div>"
     },
     "metadata": {},
     "execution_count": 8
    }
   ],
   "source": [
    "transform_data.head(2)"
   ]
  },
  {
   "cell_type": "code",
   "execution_count": 9,
   "metadata": {},
   "outputs": [],
   "source": [
    "transform_data['Tweets'] = transform_data['Tweets'].replace(to_replace=r'https?:\\/\\/.*[\\r\\n]*', value='', regex=True)\n",
    "transform_data['Tweets'] = transform_data['Tweets'].replace(to_replace=r'#\\S+', value='', regex=True)\n",
    "transform_data['Tweets'] = transform_data['Tweets'].replace(to_replace=r'@\\S+', value='', regex=True)\n",
    "transform_data['Tweets'] = transform_data['Tweets'].replace(to_replace=r'\\$\\w*', value='', regex=True)\n",
    "transform_data['Tweets'] = transform_data['Tweets'].replace(to_replace=r'\\n', value='', regex=True)\n",
    "transform_data['Tweets'] = transform_data['Tweets'].replace(to_replace=r'\\\"\"', value='', regex=True)\n",
    "transform_data['Tweets'] = transform_data['Tweets'].replace(to_replace=r'  ', value=' ', regex=True)\n",
    "transform_data['Tweets'] = transform_data['Tweets'].str.replace('[^\\w\\s#@/:%.,_-]', '', flags=re.UNICODE)\n",
    "transform_data['Tweets'] = transform_data['Tweets'].str.upper().str.lstrip().str.strip()\n",
    "\n",
    "                \n",
    "transform_data['Post_date'] = pd.to_datetime(transform_data['Post_date'], format='%d-%m-Y',infer_datetime_format=True) \n",
    "transform_data['Post_date'] = transform_data['Post_date'].dt.strftime('%Y-%m-%d')\n",
    "\n",
    "transform_data.insert(3, \"Upload_date\",datetime.today().strftime('%Y-%m-%d'), allow_duplicates=False)\n",
    "       "
   ]
  },
  {
   "cell_type": "code",
   "execution_count": 10,
   "metadata": {},
   "outputs": [
    {
     "output_type": "execute_result",
     "data": {
      "text/plain": [
       "            User                                             Tweets  \\\n",
       "0  railanderReis                         OU NHM CONVITE PRA ROCK...   \n",
       "1  railanderReis  CONHECO, MAS TENHO QUE CONFIRMAR SE ELA ESTA P...   \n",
       "2        RapMais  RT MIRANDO UM FEAT FUTURO COM TRAVIS SCOTT  EL...   \n",
       "3        RapMais  RT HOJE ESTAREI PARTICIPANDO DO PROGRAMA PARA ...   \n",
       "4        RapMais  POLICIAL QUE MATOU GEORGE FLOYD ESTÁ SENDO INV...   \n",
       "5        RapMais  O RAPPER KANYE WEST ESTÁ NESTE MOMENTO COM O C...   \n",
       "6        RapMais  6IX9INE FAZ PRIMEIRO SHOW DESDE QUE SAIU DA PR...   \n",
       "7        RapMais  PK DELAS DEBOCHA APÓS SER DETIDO POR FAZER SEX...   \n",
       "8        RapMais  RAPPER DMX GRAVOU SEU ÚLLTIMO ÁLBUM NO ESTÚDIO...   \n",
       "9        RapMais  TA.INC LIBERA VIDEOCLIPE DO SINGLE GLOCK NA CI...   \n",
       "\n",
       "    Post_date Upload_date  \n",
       "0  2021-04-17  2021-04-25  \n",
       "1  2021-03-04  2021-04-25  \n",
       "2  2021-04-25  2021-04-25  \n",
       "3  2021-04-25  2021-04-25  \n",
       "4  2021-04-24  2021-04-25  \n",
       "5  2021-04-24  2021-04-25  \n",
       "6  2021-04-24  2021-04-25  \n",
       "7  2021-04-24  2021-04-25  \n",
       "8  2021-04-24  2021-04-25  \n",
       "9  2021-04-24  2021-04-25  "
      ],
      "text/html": "<div>\n<style scoped>\n    .dataframe tbody tr th:only-of-type {\n        vertical-align: middle;\n    }\n\n    .dataframe tbody tr th {\n        vertical-align: top;\n    }\n\n    .dataframe thead th {\n        text-align: right;\n    }\n</style>\n<table border=\"1\" class=\"dataframe\">\n  <thead>\n    <tr style=\"text-align: right;\">\n      <th></th>\n      <th>User</th>\n      <th>Tweets</th>\n      <th>Post_date</th>\n      <th>Upload_date</th>\n    </tr>\n  </thead>\n  <tbody>\n    <tr>\n      <th>0</th>\n      <td>railanderReis</td>\n      <td>OU NHM CONVITE PRA ROCK...</td>\n      <td>2021-04-17</td>\n      <td>2021-04-25</td>\n    </tr>\n    <tr>\n      <th>1</th>\n      <td>railanderReis</td>\n      <td>CONHECO, MAS TENHO QUE CONFIRMAR SE ELA ESTA P...</td>\n      <td>2021-03-04</td>\n      <td>2021-04-25</td>\n    </tr>\n    <tr>\n      <th>2</th>\n      <td>RapMais</td>\n      <td>RT MIRANDO UM FEAT FUTURO COM TRAVIS SCOTT  EL...</td>\n      <td>2021-04-25</td>\n      <td>2021-04-25</td>\n    </tr>\n    <tr>\n      <th>3</th>\n      <td>RapMais</td>\n      <td>RT HOJE ESTAREI PARTICIPANDO DO PROGRAMA PARA ...</td>\n      <td>2021-04-25</td>\n      <td>2021-04-25</td>\n    </tr>\n    <tr>\n      <th>4</th>\n      <td>RapMais</td>\n      <td>POLICIAL QUE MATOU GEORGE FLOYD ESTÁ SENDO INV...</td>\n      <td>2021-04-24</td>\n      <td>2021-04-25</td>\n    </tr>\n    <tr>\n      <th>5</th>\n      <td>RapMais</td>\n      <td>O RAPPER KANYE WEST ESTÁ NESTE MOMENTO COM O C...</td>\n      <td>2021-04-24</td>\n      <td>2021-04-25</td>\n    </tr>\n    <tr>\n      <th>6</th>\n      <td>RapMais</td>\n      <td>6IX9INE FAZ PRIMEIRO SHOW DESDE QUE SAIU DA PR...</td>\n      <td>2021-04-24</td>\n      <td>2021-04-25</td>\n    </tr>\n    <tr>\n      <th>7</th>\n      <td>RapMais</td>\n      <td>PK DELAS DEBOCHA APÓS SER DETIDO POR FAZER SEX...</td>\n      <td>2021-04-24</td>\n      <td>2021-04-25</td>\n    </tr>\n    <tr>\n      <th>8</th>\n      <td>RapMais</td>\n      <td>RAPPER DMX GRAVOU SEU ÚLLTIMO ÁLBUM NO ESTÚDIO...</td>\n      <td>2021-04-24</td>\n      <td>2021-04-25</td>\n    </tr>\n    <tr>\n      <th>9</th>\n      <td>RapMais</td>\n      <td>TA.INC LIBERA VIDEOCLIPE DO SINGLE GLOCK NA CI...</td>\n      <td>2021-04-24</td>\n      <td>2021-04-25</td>\n    </tr>\n  </tbody>\n</table>\n</div>"
     },
     "metadata": {},
     "execution_count": 10
    }
   ],
   "source": [
    "transform_data.head(10)"
   ]
  },
  {
   "cell_type": "code",
   "execution_count": 11,
   "metadata": {},
   "outputs": [],
   "source": [
    "url = \"mongodb://127.0.0.1:27017/\"\n",
    "con = pymongo.MongoClient(url)\n",
    "\n",
    "db = con.twitterdb\n",
    "\n",
    "collection = db.tweets_famosos\n",
    "\n"
   ]
  },
  {
   "cell_type": "code",
   "execution_count": 12,
   "metadata": {},
   "outputs": [
    {
     "output_type": "execute_result",
     "data": {
      "text/plain": [
       "<pymongo.results.InsertManyResult at 0x19ff78fe400>"
      ]
     },
     "metadata": {},
     "execution_count": 12
    }
   ],
   "source": [
    "transform_data.reset_index(inplace=True) # Reset Index\n",
    "data_dict = transform_data.to_dict(\"records\") # Convert to dictionary\n",
    "db.tweets_famosos.insert_many(data_dict) # inesrt into DB"
   ]
  },
  {
   "cell_type": "code",
   "execution_count": 13,
   "metadata": {},
   "outputs": [
    {
     "output_type": "execute_result",
     "data": {
      "text/plain": [
       "62"
      ]
     },
     "metadata": {},
     "execution_count": 13
    }
   ],
   "source": [
    "db.tweets_famosos.count_documents({})"
   ]
  },
  {
   "cell_type": "code",
   "execution_count": null,
   "metadata": {},
   "outputs": [],
   "source": [
    "data_atual = datetime.today().strftime('%Y-%m-%d')\n",
    "print(data_atual)"
   ]
  },
  {
   "cell_type": "code",
   "execution_count": null,
   "metadata": {},
   "outputs": [],
   "source": []
  }
 ]
}